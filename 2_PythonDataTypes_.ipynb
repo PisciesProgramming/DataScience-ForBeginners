{
  "nbformat": 4,
  "nbformat_minor": 0,
  "metadata": {
    "colab": {
      "name": "2-PythonDataTypes .ipynb",
      "provenance": [],
      "collapsed_sections": [],
      "authorship_tag": "ABX9TyMyCmRtIUVAehbBRRL9FY35",
      "include_colab_link": true
    },
    "kernelspec": {
      "name": "python3",
      "display_name": "Python 3"
    },
    "language_info": {
      "name": "python"
    }
  },
  "cells": [
    {
      "cell_type": "markdown",
      "metadata": {
        "id": "view-in-github",
        "colab_type": "text"
      },
      "source": [
        "<a href=\"https://colab.research.google.com/github/PisciesProgramming/DataScience-ForBeginners/blob/story%2Fcap2-datatypes/2_PythonDataTypes_.ipynb\" target=\"_parent\"><img src=\"https://colab.research.google.com/assets/colab-badge.svg\" alt=\"Open In Colab\"/></a>"
      ]
    },
    {
      "cell_type": "markdown",
      "source": [
        "Capítulo 2 - Python Data Types\n",
        "\n",
        "The data type determines the values that can be assigned to a variable. exist differents data types suported in Python.\n"
      ],
      "metadata": {
        "id": "5myQDQh-yv-K"
      }
    },
    {
      "cell_type": "markdown",
      "source": [
        "Python Numbers:\n",
        "These data types help in the storage of numeric values."
      ],
      "metadata": {
        "id": "H4QXs9NozNix"
      }
    },
    {
      "cell_type": "code",
      "execution_count": null,
      "metadata": {
        "id": "ICw_KQVNyN_L",
        "colab": {
          "base_uri": "https://localhost:8080/"
        },
        "outputId": "e10119dd-38b1-4a98-9ede-eeb37f1273b0"
      },
      "outputs": [
        {
          "output_type": "execute_result",
          "data": {
            "text/plain": [
              "(55, 26)"
            ]
          },
          "metadata": {},
          "execution_count": 9
        }
      ],
      "source": [
        "total = 55\n",
        "age = 26\n",
        "\n",
        "total, age"
      ]
    },
    {
      "cell_type": "markdown",
      "source": [
        "In Python, there are four numerical values wich are suported:\n",
        "- int\n",
        "- float\n",
        "- complex"
      ],
      "metadata": {
        "id": "-mnwFsu90BYF"
      }
    },
    {
      "cell_type": "markdown",
      "source": [
        "In Python 3, all integers are represented in the form of long integers\n",
        "Exemple:"
      ],
      "metadata": {
        "id": "2Maz2jEn0LDx"
      }
    },
    {
      "cell_type": "code",
      "source": [
        "x = 10\n",
        "x"
      ],
      "metadata": {
        "colab": {
          "base_uri": "https://localhost:8080/"
        },
        "id": "jMbXYZUmzeAr",
        "outputId": "2d9114f7-dcae-49b6-b303-2536f907827f"
      },
      "execution_count": null,
      "outputs": [
        {
          "output_type": "execute_result",
          "data": {
            "text/plain": [
              "10"
            ]
          },
          "metadata": {},
          "execution_count": 12
        }
      ]
    },
    {
      "cell_type": "markdown",
      "source": [
        "The Float is used for storing numeric values with decimal point. \n",
        "Exemple:"
      ],
      "metadata": {
        "id": "ydkWBLh90Y0y"
      }
    },
    {
      "cell_type": "code",
      "source": [
        "x = 10.345\n",
        "x"
      ],
      "metadata": {
        "colab": {
          "base_uri": "https://localhost:8080/"
        },
        "id": "1DN4W5qv0fkA",
        "outputId": "df79616a-17eb-4282-8b35-334a0f9b294c"
      },
      "execution_count": null,
      "outputs": [
        {
          "output_type": "execute_result",
          "data": {
            "text/plain": [
              "10.345"
            ]
          },
          "metadata": {},
          "execution_count": 13
        }
      ]
    },
    {
      "cell_type": "code",
      "source": [
        "v = 5 * 1.5\n",
        "v"
      ],
      "metadata": {
        "colab": {
          "base_uri": "https://localhost:8080/"
        },
        "id": "f3jyVMrp0m35",
        "outputId": "f319a913-d007-43af-aea1-c2a3f020d9af"
      },
      "execution_count": null,
      "outputs": [
        {
          "output_type": "execute_result",
          "data": {
            "text/plain": [
              "7.5"
            ]
          },
          "metadata": {},
          "execution_count": 14
        }
      ]
    },
    {
      "cell_type": "markdown",
      "source": [
        "Complex Numers are made of real and imaginary parts, with the imaginary part being denoted using a j. They can be defined as follows:\n"
      ],
      "metadata": {
        "id": "UinzEntd0t5b"
      }
    },
    {
      "cell_type": "code",
      "source": [
        "x = 4 + 5j"
      ],
      "metadata": {
        "colab": {
          "base_uri": "https://localhost:8080/"
        },
        "id": "FnfAcBgc06IZ",
        "outputId": "2c6d8949-99b4-465f-d3b9-08ab63a7fe0d"
      },
      "execution_count": null,
      "outputs": [
        {
          "output_type": "execute_result",
          "data": {
            "text/plain": [
              "(4+5j)"
            ]
          },
          "metadata": {},
          "execution_count": 15
        }
      ]
    },
    {
      "cell_type": "markdown",
      "source": [
        "In Python, there is a function named type() that can be used for determining the type of a variable. Example:"
      ],
      "metadata": {
        "id": "Hiu0F1ZF1YIU"
      }
    },
    {
      "cell_type": "code",
      "source": [
        "x = 10\n",
        "type(x)"
      ],
      "metadata": {
        "colab": {
          "base_uri": "https://localhost:8080/"
        },
        "id": "U9xyYvLs1ZRc",
        "outputId": "d1bc9a50-758d-4ad7-b3f7-a43330a17cc8"
      },
      "execution_count": null,
      "outputs": [
        {
          "output_type": "execute_result",
          "data": {
            "text/plain": [
              "int"
            ]
          },
          "metadata": {},
          "execution_count": 16
        }
      ]
    },
    {
      "cell_type": "code",
      "source": [
        "name = 'nicholas'\n",
        "type(name)"
      ],
      "metadata": {
        "colab": {
          "base_uri": "https://localhost:8080/"
        },
        "id": "5WeuD_LB1yUW",
        "outputId": "98c35de4-0073-4f8a-8aec-aa0b4abd0c54"
      },
      "execution_count": null,
      "outputs": [
        {
          "output_type": "execute_result",
          "data": {
            "text/plain": [
              "str"
            ]
          },
          "metadata": {},
          "execution_count": 17
        }
      ]
    },
    {
      "cell_type": "markdown",
      "source": [
        "Python Strings\n",
        "Python strings are a serie of characteres enclosed within quotes. Use any type of quotes to enclose Python strings, thst is, either single, double or triple quotes. To acess string elements, we use the slice [:] operator. Trick: Strings caracters begin at index 0.\n",
        "\n",
        "To contatenate strings in Python, we use the + operator, the asterisk (*) is used for repetition.\n",
        "\n",
        "Examples:"
      ],
      "metadata": {
        "id": "gDIib52B1zh9"
      }
    },
    {
      "cell_type": "code",
      "source": [
        "thanks = 'Thank You'\n",
        "print(thanks) #printing full string\n",
        "print(thanks[0]) #printing first caractere\n",
        "print(thanks[2:7])#printing 3rd to the 7th caracter\n",
        "print(thanks[4:])#printing from the 5th caracter of the string\n",
        "print(thanks * 2)#printing the string two times\n",
        "print(thanks + \"\\t Again!\")#printing a concatenated string"
      ],
      "metadata": {
        "colab": {
          "base_uri": "https://localhost:8080/"
        },
        "id": "uFLvf_ua5RWj",
        "outputId": "0a7b6a67-e974-4db1-e23f-f4ac9144fac4"
      },
      "execution_count": null,
      "outputs": [
        {
          "output_type": "stream",
          "name": "stdout",
          "text": [
            "Thank You\n",
            "T\n",
            "ank Y\n",
            "k You\n",
            "Thank YouThank You\n",
            "Thank You\t Again!\n"
          ]
        }
      ]
    }
  ]
}